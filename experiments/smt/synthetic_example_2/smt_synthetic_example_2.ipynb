{
 "cells": [
  {
   "cell_type": "code",
   "execution_count": null,
   "id": "8bd5ab68-f7a0-4906-9939-494553808398",
   "metadata": {
    "collapsed": false
   },
   "outputs": [],
   "source": [
    "from z3 import *\n",
    "import numpy as np\n",
    "import random\n",
    "import arviz as az\n",
    "\n",
    "import os, sys\n",
    "sys.path.append(os.path.join(\"../../../\"))\n",
    "\n",
    "# our library\n",
    "from src.mcmc_sat import smt,mcmc"
   ]
  },
  {
   "cell_type": "markdown",
   "id": "0845fc53-a574-45f3-8e12-bccd4b9baae5",
   "metadata": {
    "collapsed": false
   },
   "source": [
    "## Model definition (in Z3)\n",
    "\n",
    "We start by defining a model as an SMT problem using Z3"
   ]
  },
  {
   "cell_type": "code",
   "execution_count": null,
   "id": "625bc894-3032-4e8f-a9cb-130ce82f5d36",
   "metadata": {
    "collapsed": false
   },
   "outputs": [],
   "source": [
    "# We create five Integer variables\n",
    "num_vars = 3\n",
    "x = [Int(f'x{i}') for i in range(num_vars)]"
   ]
  },
  {
   "cell_type": "code",
   "execution_count": null,
   "id": "686fdea5-92cd-4274-a19c-afd6e575d0ed",
   "metadata": {
    "collapsed": false
   },
   "outputs": [],
   "source": [
    "# We define the model using the variables above\n",
    "\n",
    "s = Solver() # get an instance of a Z3 solver\n",
    "\n",
    "# model constraints\n",
    "s.add(x[0]>=0)\n",
    "s.add(x[1]>=0)\n",
    "s.add(x[2]>=0)\n",
    "s.add(x[0]<=3)\n",
    "s.add(x[1]<=3)\n",
    "s.add(x[2]<=6)\n",
    "s.add(x[0] + x[1] == x[2])"
   ]
  },
  {
   "cell_type": "markdown",
   "id": "e687f327-751e-4c33-b0b7-e85b2da356e9",
   "metadata": {
    "collapsed": false
   },
   "source": [
    "## Storing the model\n",
    "\n",
    "We store the Z3 problem in a smt2 format. This is the input format required by Megasampler."
   ]
  },
  {
   "cell_type": "code",
   "execution_count": null,
   "id": "1a3a1e49-219b-4f96-b18a-be9dfaf9db99",
   "metadata": {
    "collapsed": false
   },
   "outputs": [],
   "source": [
    "MEGASAMPLER_INPUT_DIR = 'megasampler_input'\n",
    "megasampler_input_file = 'z3_synth_problem_2.smt2'\n",
    "megasampler_input_filepath = f'{MEGASAMPLER_INPUT_DIR}/{megasampler_input_file}'\n",
    "\n",
    "smt.save_smt2(solver=s, filepath=megasampler_input_filepath)"
   ]
  },
  {
   "cell_type": "markdown",
   "id": "643d0584-9c0a-4e73-82e8-e82edf0b6300",
   "metadata": {
    "collapsed": false
   },
   "source": [
    "## Executing Megasampler\n",
    "\n",
    "Now we execute megasampler to produce 10000 samples (by default). The input to the function is the file where the smt2 version of the Z3 problem is stored."
   ]
  },
  {
   "cell_type": "code",
   "execution_count": null,
   "id": "7233b509-9595-4837-b6d9-60052d94d9b0",
   "metadata": {
    "collapsed": false
   },
   "outputs": [],
   "source": [
    "# We execute megasampler \\o/\n",
    "MEGASAMPLER_OUTPUT_DIR = 'megasampler_output'\n",
    "smt.execute_megasampler(input_filepath=megasampler_input_filepath, algo = 'SMT',\n",
    "                        output_dir=MEGASAMPLER_OUTPUT_DIR)"
   ]
  },
  {
   "cell_type": "markdown",
   "id": "552d5eae-1c54-4621-8082-90680eb0719e",
   "metadata": {
    "collapsed": false
   },
   "source": [
    "Megasampler stores the samples in a file. The file is stored in the directory passed as parameter in the above function. In what follows, we parse this file to produce a list of samples. Each sample is encoded as a dictionary where the key is the variable name and the value the sample."
   ]
  },
  {
   "cell_type": "code",
   "execution_count": null,
   "id": "6b1a66ac-0e4a-4ade-9138-c273feb3dee7",
   "metadata": {
    "collapsed": false
   },
   "outputs": [],
   "source": [
    "# Define output files with samples\n",
    "file_samples = f'{MEGASAMPLER_OUTPUT_DIR}/{megasampler_input_file}.samples'"
   ]
  },
  {
   "cell_type": "code",
   "execution_count": null,
   "id": "c6dadaca-0dbe-4554-b0ef-87c7f927a23e",
   "metadata": {
    "collapsed": false
   },
   "outputs": [],
   "source": [
    "# We parse the samples\n",
    "samples = smt.parse_megasamples(file_samples)"
   ]
  },
  {
   "cell_type": "markdown",
   "id": "6c8c1ab9-2d40-4cb1-9b4c-7362763f881e",
   "metadata": {
    "collapsed": false
   },
   "source": [
    "## We run our MCMC algo\n",
    "\n",
    "Finally, we run our MCMC algorithm. It takes as input the parsed samples. Currently, we always accept the samples. There is no likelihood or prior."
   ]
  },
  {
   "cell_type": "code",
   "execution_count": null,
   "id": "6571e065-6069-4097-817d-f5af3fdd3cfa",
   "metadata": {
    "collapsed": false
   },
   "outputs": [],
   "source": [
    "# We run MCMC using the \"megasamples\"\n",
    "trace = mcmc.sample_mh_trace(10000,4,samples)"
   ]
  },
  {
   "cell_type": "code",
   "execution_count": null,
   "id": "dc7d9fa5-371a-4e37-a9d3-2b53d20177d4",
   "metadata": {
    "collapsed": false
   },
   "outputs": [],
   "source": [
    "trace"
   ]
  },
  {
   "cell_type": "markdown",
   "id": "3e5536a4-e30c-40a5-ad22-d6e187f82c32",
   "metadata": {
    "collapsed": false
   },
   "source": [
    "## Posterior\n",
    "\n",
    "We conclude by showing the posterior trace plots and summary statistics for each variable."
   ]
  },
  {
   "cell_type": "code",
   "execution_count": null,
   "id": "2a19c62b-bf4e-465c-b096-af2cf4eaed85",
   "metadata": {
    "collapsed": false
   },
   "outputs": [],
   "source": [
    "# Plot the posterior\n",
    "import matplotlib.pyplot as plt\n",
    "az.plot_trace(trace);\n",
    "plt.savefig('megasampler_trace_plot.pdf');"
   ]
  },
  {
   "cell_type": "code",
   "execution_count": null,
   "id": "aa996b42-2365-40c8-96f1-25bb1cfd9a29",
   "metadata": {
    "collapsed": false
   },
   "outputs": [],
   "source": [
    "# Diagnostics\n",
    "az.summary(trace)"
   ]
  }
 ],
 "metadata": {
  "kernelspec": {
   "argv": [
    "/home/pardo/programs/miniconda3/envs/mcmc+sat/bin/python",
    "-m",
    "ipykernel_launcher",
    "-f",
    "{connection_file}"
   ],
   "display_name": "Python [conda env:mcmc+sat] *",
   "env": null,
   "interrupt_mode": "signal",
   "language": "python",
   "metadata": {
    "conda_env_name": "mcmc+sat",
    "conda_env_path": "/home/pardo/programs/miniconda3/envs/mcmc+sat",
    "debugger": false
   },
   "name": "conda-env-mcmc_sat-py"
  },
  "language_info": {
   "codemirror_mode": {
    "name": "ipython",
    "version": 3
   },
   "file_extension": ".py",
   "mimetype": "text/x-python",
   "name": "python",
   "nbconvert_exporter": "python",
   "pygments_lexer": "ipython3",
   "version": "3.11.4"
  },
  "name": "smt_synthetic_example_2.ipynb",
  "varInspector": {
   "cols": {
    "lenName": 16,
    "lenType": 16,
    "lenVar": 40
   },
   "kernels_config": {
    "python": {
     "delete_cmd_postfix": "",
     "delete_cmd_prefix": "del ",
     "library": "var_list.py",
     "varRefreshCmd": "print(var_dic_list())"
    },
    "r": {
     "delete_cmd_postfix": ") ",
     "delete_cmd_prefix": "rm(",
     "library": "var_list.r",
     "varRefreshCmd": "cat(var_dic_list()) "
    }
   },
   "types_to_exclude": [
    "module",
    "function",
    "builtin_function_or_method",
    "instance",
    "_Feature"
   ],
   "window_display": false
  }
 },
 "nbformat": 4,
 "nbformat_minor": 5
}
