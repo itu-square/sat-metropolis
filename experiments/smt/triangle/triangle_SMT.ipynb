{
 "cells": [
  {
   "cell_type": "code",
   "execution_count": 1,
   "id": "8bd5ab68-f7a0-4906-9939-494553808398",
   "metadata": {
    "collapsed": false
   },
   "outputs": [],
   "source": [
    "from z3 import *\n",
    "import numpy as np\n",
    "import random\n",
    "import arviz as az\n",
    "import matplotlib.pyplot as plt\n",
    "plt.rcParams[\"figure.autolayout\"] = True # to for tight_layout()\n",
    "\n",
    "import os, sys\n",
    "sys.path.append(os.path.join(\"../../../\"))\n",
    "\n",
    "# our library\n",
    "from src.mcmc_sat import smt,mcmc,utils"
   ]
  },
  {
   "cell_type": "code",
   "execution_count": 2,
   "id": "686fdea5-92cd-4274-a19c-afd6e575d0ed",
   "metadata": {
    "collapsed": false
   },
   "outputs": [],
   "source": [
    "num_vars = 3\n",
    "x = [Int(f'x{i}') for i in range(num_vars)]\n",
    "\n",
    "s = Solver()\n",
    "\n",
    "# model constraints\n",
    "s.add(x[0]>=0)\n",
    "s.add(x[1]>=0)\n",
    "s.add(x[2]>=0)\n",
    "s.add(x[0]<=3)\n",
    "s.add(x[1]<=3)\n",
    "s.add(x[2]<=6)\n",
    "s.add(x[0] + x[1] == x[2])"
   ]
  },
  {
   "cell_type": "markdown",
   "id": "d1b71b4d",
   "metadata": {},
   "source": [
    "**MegaSampler cannot handle this case. It times out and produces only one sample**"
   ]
  },
  {
   "cell_type": "code",
   "execution_count": 3,
   "id": "0ce58a26",
   "metadata": {},
   "outputs": [
    {
     "name": "stdout",
     "output_type": "stream",
     "text": [
      "Parsing input file: megasampler_input/z3_problem.smt2\n",
      "Number of formulas in file: 7\n",
      "-------------FORMULA STATISTICS-------------\n",
      "Arrays 0\n",
      "Bit-vectors 0\n",
      "Bools 0\n",
      "Bits 0\n",
      "Uninterpreted functions 0\n",
      "Ints 3\n",
      "Reals 0\n",
      "Formula tree depth 2\n",
      "--------------------------------------------\n",
      "starting MeGASampler\n",
      "Formula is satisfiable\n",
      "Stopping: timeout\n",
      "---------SOLVING STATISTICS--------\n",
      "do_epoch time: 410.437\n",
      "epoch time: 599.875\n",
      "grow_seed time: 13.7251\n",
      "initial_solving time: 0.0129838\n",
      "output time: 2.07882\n",
      "start_epoch time: 189.175\n",
      "total time: 600.001\n",
      "Epochs: 239594\n",
      "MAX-SMT calls: 239595\n",
      "SMT calls: 0\n",
      "Assignments considered (with repetitions): 24438487\n",
      "Models (with repetitions): 24438487\n",
      "Unique models (# samples in file): 1\n",
      "-----------------------------------\n",
      "The parameter `solver_samples` only contains 1 samples. Thus, every chain will contain 1 instead of 1. Try running the SAT/SMT sampler longer to obtain more samples.\n",
      "\n"
     ]
    },
    {
     "name": "stderr",
     "output_type": "stream",
     "text": [
      "/home/pardo/programs/miniconda3/envs/mcmc_sat/lib/python3.12/site-packages/arviz/data/base.py:221: UserWarning: More chains (4) than draws (1). Passed array should have shape (chains, draws, *shape)\n",
      "  warnings.warn(\n"
     ]
    }
   ],
   "source": [
    "trace = mcmc.sample_mh_trace_from_z3_model(backend='megasampler',\n",
    "                                           z3_problem=s,\n",
    "                                           timeout_sampler=60*10)"
   ]
  },
  {
   "cell_type": "code",
   "execution_count": 4,
   "id": "2a19c62b-bf4e-465c-b096-af2cf4eaed85",
   "metadata": {
    "collapsed": false
   },
   "outputs": [
    {
     "name": "stderr",
     "output_type": "stream",
     "text": [
      "/home/pardo/programs/miniconda3/envs/mcmc_sat/lib/python3.12/site-packages/arviz/plots/backends/matplotlib/traceplot.py:425: UserWarning: Attempting to set identical low and high xlims makes transformation singular; automatically expanding.\n",
      "  ax.set_xlim(left=data.draw.min(), right=data.draw.max())\n",
      "/home/pardo/programs/miniconda3/envs/mcmc_sat/lib/python3.12/site-packages/arviz/plots/backends/matplotlib/traceplot.py:425: UserWarning: Attempting to set identical low and high xlims makes transformation singular; automatically expanding.\n",
      "  ax.set_xlim(left=data.draw.min(), right=data.draw.max())\n",
      "/home/pardo/programs/miniconda3/envs/mcmc_sat/lib/python3.12/site-packages/arviz/plots/backends/matplotlib/traceplot.py:425: UserWarning: Attempting to set identical low and high xlims makes transformation singular; automatically expanding.\n",
      "  ax.set_xlim(left=data.draw.min(), right=data.draw.max())\n"
     ]
    },
    {
     "data": {
      "image/png": "[encoded data removed]",
      "text/plain": [
       "<Figure size 1200x600 with 6 Axes>"
      ]
     },
     "metadata": {},
     "output_type": "display_data"
    }
   ],
   "source": [
    "az.plot_trace(trace);\n",
    "plt.savefig('megasampler_trace_plot.png', dpi=150);"
   ]
  },
  {
   "cell_type": "code",
   "execution_count": 5,
   "id": "aa996b42-2365-40c8-96f1-25bb1cfd9a29",
   "metadata": {
    "collapsed": false
   },
   "outputs": [
    {
     "name": "stderr",
     "output_type": "stream",
     "text": [
      "arviz - WARNING - Shape validation failed: input_shape: (4, 1), minimum_shape: (chains=1, draws=4)\n"
     ]
    },
    {
     "data": {
      "text/html": [
       "<div>\n",
       "<style scoped>\n",
       "    .dataframe tbody tr th:only-of-type {\n",
       "        vertical-align: middle;\n",
       "    }\n",
       "\n",
       "    .dataframe tbody tr th {\n",
       "        vertical-align: top;\n",
       "    }\n",
       "\n",
       "    .dataframe thead th {\n",
       "        text-align: right;\n",
       "    }\n",
       "</style>\n",
       "<table border=\"1\" class=\"dataframe\">\n",
       "  <thead>\n",
       "    <tr style=\"text-align: right;\">\n",
       "      <th></th>\n",
       "      <th>mean</th>\n",
       "      <th>sd</th>\n",
       "      <th>hdi_3%</th>\n",
       "      <th>hdi_97%</th>\n",
       "      <th>mcse_mean</th>\n",
       "      <th>mcse_sd</th>\n",
       "      <th>ess_bulk</th>\n",
       "      <th>ess_tail</th>\n",
       "      <th>r_hat</th>\n",
       "    </tr>\n",
       "  </thead>\n",
       "  <tbody>\n",
       "    <tr>\n",
       "      <th>x0</th>\n",
       "      <td>0.0</td>\n",
       "      <td>0.0</td>\n",
       "      <td>0.0</td>\n",
       "      <td>0.0</td>\n",
       "      <td>NaN</td>\n",
       "      <td>NaN</td>\n",
       "      <td>NaN</td>\n",
       "      <td>NaN</td>\n",
       "      <td>NaN</td>\n",
       "    </tr>\n",
       "    <tr>\n",
       "      <th>x1</th>\n",
       "      <td>0.0</td>\n",
       "      <td>0.0</td>\n",
       "      <td>0.0</td>\n",
       "      <td>0.0</td>\n",
       "      <td>NaN</td>\n",
       "      <td>NaN</td>\n",
       "      <td>NaN</td>\n",
       "      <td>NaN</td>\n",
       "      <td>NaN</td>\n",
       "    </tr>\n",
       "    <tr>\n",
       "      <th>x2</th>\n",
       "      <td>0.0</td>\n",
       "      <td>0.0</td>\n",
       "      <td>0.0</td>\n",
       "      <td>0.0</td>\n",
       "      <td>NaN</td>\n",
       "      <td>NaN</td>\n",
       "      <td>NaN</td>\n",
       "      <td>NaN</td>\n",
       "      <td>NaN</td>\n",
       "    </tr>\n",
       "  </tbody>\n",
       "</table>\n",
       "</div>"
      ],
      "text/plain": [
       "    mean   sd  hdi_3%  hdi_97%  mcse_mean  mcse_sd  ess_bulk  ess_tail  r_hat\n",
       "x0   0.0  0.0     0.0      0.0        NaN      NaN       NaN       NaN    NaN\n",
       "x1   0.0  0.0     0.0      0.0        NaN      NaN       NaN       NaN    NaN\n",
       "x2   0.0  0.0     0.0      0.0        NaN      NaN       NaN       NaN    NaN"
      ]
     },
     "execution_count": 5,
     "metadata": {},
     "output_type": "execute_result"
    }
   ],
   "source": [
    "# Diagnostics\n",
    "az.summary(trace)"
   ]
  },
  {
   "cell_type": "code",
   "execution_count": 6,
   "id": "3786f2af-0fe5-46a6-9ccc-d64e09dcc7ce",
   "metadata": {
    "collapsed": false
   },
   "outputs": [],
   "source": [
    "utils.save_trace(trace, f'triangle_SMT_{num_vars}.nc')"
   ]
  }
 ],
 "metadata": {
  "kernelspec": {
   "display_name": "mcmc_sat",
   "language": "python",
   "name": "python3"
  },
  "language_info": {
   "codemirror_mode": {
    "name": "ipython",
    "version": 3
   },
   "file_extension": ".py",
   "mimetype": "text/x-python",
   "name": "python",
   "nbconvert_exporter": "python",
   "pygments_lexer": "ipython3",
   "version": "3.12.4"
  },
  "name": "triangle_SMT.ipynb",
  "varInspector": {
   "cols": {
    "lenName": 16,
    "lenType": 16,
    "lenVar": 40
   },
   "kernels_config": {
    "python": {
     "delete_cmd_postfix": "",
     "delete_cmd_prefix": "del ",
     "library": "var_list.py",
     "varRefreshCmd": "print(var_dic_list())"
    },
    "r": {
     "delete_cmd_postfix": ") ",
     "delete_cmd_prefix": "rm(",
     "library": "var_list.r",
     "varRefreshCmd": "cat(var_dic_list()) "
    }
   },
   "types_to_exclude": [
    "module",
    "function",
    "builtin_function_or_method",
    "instance",
    "_Feature"
   ],
   "window_display": false
  }
 },
 "nbformat": 4,
 "nbformat_minor": 5
}
