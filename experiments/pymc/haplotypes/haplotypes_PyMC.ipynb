{
 "cells": [
  {
   "cell_type": "code",
   "execution_count": 41,
   "id": "c25e241d-c2e2-403b-9fa7-d5760da05b80",
   "metadata": {
    "collapsed": false
   },
   "outputs": [],
   "source": [
    "import matplotlib.pyplot as plt\n",
    "plt.rcParams[\"figure.autolayout\"] = True # to for tight_layout()\n",
    "import pymc as pm\n",
    "import pytensor as pt\n",
    "import numpy as np\n",
    "import pandas as pd\n",
    "import itertools\n",
    "import random\n",
    "import operator\n",
    "import arviz as az"
   ]
  },
  {
   "cell_type": "code",
   "execution_count": 2,
   "id": "19b91854",
   "metadata": {},
   "outputs": [],
   "source": [
    "#32 Haplotypes\n",
    "#5 placings in the haplotype (2⁵ = 32)\n",
    "#100 genotypes\n",
    "\n",
    "haplotypes = list(map(list, itertools.product([0, 1], repeat=5)))\n",
    "haplotypesProb = [\n",
    "    0.0056,   0.004,                0.00368,  0.1,                 \n",
    "    0.005681, 0.09,                 0.00468,  0.003,    \n",
    "    0.08,     0.006147,             0.00595,  0.0071,   \n",
    "    0.00345,  0.00632,              0.1,      0.0029,   \n",
    "    0.0071,   0.006147,             0.085,    0.0045671,\n",
    "    0.003379, 0.1,                  0.00461,  0.00614,             \n",
    "    0.075,    0.08,                 0.00761,  0.004321, \n",
    "    0.09,     0.009217900000000112, 0.0134,   0.075]\n",
    "\n",
    "haplotypes_prob_synth = [\n",
    "    0.00100000000000000, 0.00100000000000000, 0.00100000000000000, 0.00100000000000000,\n",
    "    0.00100000000000000, 0.32366666666666666, 0.00100000000000000, 0.00100000000000000,\n",
    "    0.00100000000000000, 0.00100000000000000, 0.00100000000000000, 0.00100000000000000,   \n",
    "    0.00100000000000000, 0.00100000000000000, 0.00100000000000000, 0.00100000000000000,\n",
    "    0.00100000000000000, 0.00100000000000000, 0.32366666666666666, 0.00100000000000000,\n",
    "    0.00100000000000000, 0.00100000000000000, 0.00100000000000000, 0.00100000000000000,\n",
    "    0.00100000000000000, 0.00100000000000000, 0.00100000000000000, 0.00100000000000000,\n",
    "    0.00100000000000000, 0.00100000000000000, 0.00100000000000000, 0.32366666666666666\n",
    "]\n",
    "\n",
    "haplotypesProb=haplotypes_prob_synth\n",
    "\n",
    "# NOTE: This is a dict to store the number of haplotypes drawn from the probabilities above\n",
    "haplotypesnumber = {}\n",
    "for i in range(32):\n",
    "    haplotypesnumber[str(haplotypes[i])] = 0\n",
    "\n",
    "# NOTE: This code snippet samples 100 genotypes by sampling haplotypes with the probabilities above\n",
    "#       I suppose the goal is to recover the probabilities above\n",
    "genotypes = []\n",
    "d = {'h_1': [], 'h_2': [], 'g': []} # NOTE: added by Raúl\n",
    "# seeds not working...\n",
    "np.random.seed(2023)\n",
    "random.seed(2023)\n",
    "for i in range(100):\n",
    "    h1 = np.random.choice(np.arange(32), p=haplotypesProb) # samples one haplotype (from 0 to 31) with probabilities above\n",
    "    h2 = np.random.choice(np.arange(32), p=haplotypesProb) # samples one haplotype (from 0 to 31) with probabilities above\n",
    "    genotypes.append(list(map(operator.add,haplotypes[h1],haplotypes[h2]))) # combines them to form a genotype\n",
    "    d['h_1'].append(haplotypes[h1]); d['h_2'].append(haplotypes[h2]); d['g'].append(genotypes[i]); # NOTE: added by Raúl\n",
    "    haplotypesnumber[str(haplotypes[h1])] = haplotypesnumber[str(haplotypes[h1])] +1 # keeps count of sampled haplotypes \n",
    "    haplotypesnumber[str(haplotypes[h2])] = haplotypesnumber[str(haplotypes[h2])] +1 # keeps count of sampled haplotypes \n",
    "df = pd.DataFrame(data=d)"
   ]
  },
  {
   "cell_type": "code",
   "execution_count": 14,
   "id": "8a4d3327-d5df-4ddf-8f7e-2ad3df618fce",
   "metadata": {
    "collapsed": false
   },
   "outputs": [],
   "source": [
    "with pm.Model() as model_dirac:\n",
    "    num_vars = 5*100*2\n",
    "    x = pm.DiscreteUniform('x',0, 1,shape=num_vars)\n",
    "\n",
    "    for i in range(100): # iterate over all genotypes\n",
    "        for j in range(5): # iterate over all bits of the BitVec\n",
    "            pm.DiracDelta(f'c_{(i,j)}', x[i*10+j] + x[i*10+j+5], observed=genotypes[i][j])"
   ]
  },
  {
   "cell_type": "code",
   "execution_count": 19,
   "id": "22aff803",
   "metadata": {},
   "outputs": [
    {
     "name": "stderr",
     "output_type": "stream",
     "text": [
      "/home/pardo/programs/miniconda3/envs/prpro-2024/lib/python3.11/site-packages/pytensor/tensor/rewriting/elemwise.py:1029: UserWarning: Loop fusion failed because the resulting node would exceed the kernel argument limit.\n",
      "  warn(\n",
      "Only 10 samples in chain.\n",
      "/home/pardo/programs/miniconda3/envs/prpro-2024/lib/python3.11/site-packages/pytensor/tensor/rewriting/elemwise.py:1029: UserWarning: Loop fusion failed because the resulting node would exceed the kernel argument limit.\n",
      "  warn(\n",
      "Multiprocess sampling (4 chains in 4 jobs)\n",
      "Metropolis: [x]\n"
     ]
    },
    {
     "data": {
      "text/html": [
       "\n",
       "<style>\n",
       "    /* Turns off some styling */\n",
       "    progress {\n",
       "        /* gets rid of default border in Firefox and Opera. */\n",
       "        border: none;\n",
       "        /* Needs to be in here for Safari polyfill so background images work as expected. */\n",
       "        background-size: auto;\n",
       "    }\n",
       "    progress:not([value]), progress:not([value])::-webkit-progress-bar {\n",
       "        background: repeating-linear-gradient(45deg, #7e7e7e, #7e7e7e 10px, #5c5c5c 10px, #5c5c5c 20px);\n",
       "    }\n",
       "    .progress-bar-interrupted, .progress-bar-interrupted::-webkit-progress-bar {\n",
       "        background: #F44336;\n",
       "    }\n",
       "</style>\n"
      ],
      "text/plain": [
       "<IPython.core.display.HTML object>"
      ]
     },
     "metadata": {},
     "output_type": "display_data"
    },
    {
     "data": {
      "text/html": [
       "\n",
       "    <div>\n",
       "      <progress value='44' class='' max='44' style='width:300px; height:20px; vertical-align: middle;'></progress>\n",
       "      100.00% [44/44 06:37&lt;00:00 Sampling 4 chains, 0 divergences]\n",
       "    </div>\n",
       "    "
      ],
      "text/plain": [
       "<IPython.core.display.HTML object>"
      ]
     },
     "metadata": {},
     "output_type": "display_data"
    },
    {
     "name": "stderr",
     "output_type": "stream",
     "text": [
      "Sampling 4 chains for 1 tune and 10 draw iterations (4 + 40 draws total) took 397 seconds.\n",
      "The number of samples is too small to check convergence reliably.\n"
     ]
    }
   ],
   "source": [
    "# init state\n",
    "init_state = [\n",
    "    0, 1, 1, 1, 1, 1, 0, 1, 0, 1, 1, 0, 1, 0, 1, 0, 0, 0, 1, 0, 0, 0,\n",
    "    1, 0, 0, 1, 0, 0, 1, 1, 0, 1, 1, 1, 1, 1, 0, 1, 0, 1, 1, 0, 0, 1,\n",
    "    0, 1, 0, 0, 1, 0, 1, 0, 0, 1, 0, 1, 0, 0, 1, 0, 0, 0, 0, 1, 0, 1,\n",
    "    0, 1, 0, 1, 1, 0, 0, 1, 1, 0, 0, 1, 0, 0, 0, 1, 1, 0, 1, 0, 0, 1,\n",
    "    1, 1, 1, 0, 0, 1, 1, 0, 0, 1, 0, 0, 0, 0, 0, 0, 0, 1, 0, 1, 1, 1,\n",
    "    0, 0, 1, 1, 0, 1, 0, 0, 0, 1, 0, 0, 1, 0, 1, 0, 0, 1, 0, 1, 0, 0,\n",
    "    0, 0, 0, 1, 0, 1, 1, 1, 1, 1, 1, 1, 1, 1, 0, 0, 1, 0, 1, 1, 1, 1,\n",
    "    1, 1, 1, 1, 1, 1, 1, 1, 0, 1, 0, 1, 0, 1, 1, 1, 1, 1, 1, 1, 1, 1,\n",
    "    1, 1, 1, 1, 0, 0, 1, 0, 1, 1, 1, 1, 1, 1, 0, 0, 1, 0, 1, 1, 1, 1,\n",
    "    1, 1, 1, 0, 0, 1, 1, 0, 0, 1, 0, 0, 1, 0, 0, 1, 0, 1, 0, 0, 1, 0,\n",
    "    1, 1, 1, 0, 1, 0, 0, 1, 1, 1, 1, 1, 1, 1, 0, 1, 0, 0, 1, 1, 0, 0,\n",
    "    0, 0, 0, 1, 0, 1, 1, 1, 0, 1, 1, 1, 1, 1, 0, 1, 0, 1, 1, 1, 0, 1,\n",
    "    1, 1, 0, 1, 1, 0, 0, 0, 1, 1, 1, 1, 1, 1, 0, 1, 1, 0, 0, 1, 0, 1,\n",
    "    0, 0, 1, 0, 1, 0, 1, 1, 1, 0, 0, 0, 0, 0, 1, 1, 1, 1, 1, 1, 1, 1,\n",
    "    1, 1, 1, 0, 1, 1, 1, 0, 1, 1, 0, 1, 1, 0, 0, 1, 0, 1, 0, 0, 1, 0,\n",
    "    1, 0, 0, 1, 0, 1, 0, 0, 1, 0, 1, 1, 1, 1, 1, 1, 1, 1, 1, 1, 1, 0,\n",
    "    0, 1, 0, 1, 0, 0, 1, 0, 0, 0, 1, 0, 0, 1, 0, 0, 1, 1, 1, 0, 0, 1,\n",
    "    0, 1, 0, 0, 1, 0, 1, 0, 0, 1, 1, 0, 0, 1, 0, 0, 0, 1, 1, 1, 1, 1,\n",
    "    0, 1, 0, 1, 1, 0, 0, 1, 1, 1, 1, 1, 1, 0, 1, 0, 1, 0, 0, 0, 0, 0,\n",
    "    1, 1, 0, 0, 0, 1, 1, 1, 0, 1, 0, 0, 1, 0, 1, 0, 1, 0, 1, 1, 1, 1,\n",
    "    1, 1, 0, 1, 1, 1, 0, 1, 1, 0, 1, 0, 0, 1, 0, 1, 0, 0, 1, 0, 1, 0,\n",
    "    0, 1, 0, 1, 1, 1, 1, 1, 1, 0, 0, 1, 0, 1, 0, 0, 1, 0, 1, 0, 1, 1,\n",
    "    0, 1, 1, 0, 1, 1, 1, 0, 1, 1, 1, 0, 1, 1, 0, 1, 1, 1, 0, 1, 1, 1,\n",
    "    0, 1, 1, 0, 1, 0, 1, 1, 1, 1, 1, 0, 1, 0, 1, 0, 0, 1, 1, 1, 1, 1,\n",
    "    1, 0, 0, 0, 1, 0, 0, 1, 0, 0, 1, 1, 1, 1, 1, 1, 1, 1, 1, 1, 1, 1,\n",
    "    0, 0, 1, 0, 1, 0, 0, 1, 0, 1, 1, 0, 1, 1, 1, 1, 1, 0, 1, 0, 1, 1,\n",
    "    1, 1, 1, 0, 1, 1, 1, 1, 1, 0, 0, 1, 0, 1, 0, 0, 1, 0, 0, 0, 1, 0,\n",
    "    1, 0, 0, 1, 0, 1, 1, 0, 0, 1, 0, 0, 0, 1, 0, 1, 0, 0, 1, 1, 1, 1,\n",
    "    0, 0, 0, 0, 1, 0, 1, 1, 1, 1, 1, 0, 1, 0, 0, 1, 1, 0, 1, 1, 0, 1,\n",
    "    1, 1, 1, 0, 1, 0, 1, 0, 1, 1, 1, 1, 0, 1, 1, 0, 1, 1, 0, 1, 1, 1,\n",
    "    1, 0, 1, 1, 1, 0, 1, 1, 0, 1, 1, 1, 1, 1, 1, 1, 1, 1, 1, 1, 0, 0,\n",
    "    1, 0, 1, 0, 0, 1, 0, 1, 1, 0, 0, 1, 0, 1, 1, 1, 1, 1, 1, 1, 1, 1,\n",
    "    1, 1, 1, 1, 1, 1, 0, 0, 1, 0, 1, 0, 0, 1, 0, 1, 0, 0, 1, 0, 1, 0,\n",
    "    0, 1, 0, 1, 1, 1, 0, 1, 0, 1, 0, 0, 1, 1, 1, 0, 1, 1, 0, 0, 0, 0,\n",
    "    0, 1, 0, 1, 0, 0, 1, 0, 0, 1, 0, 0, 1, 0, 1, 1, 0, 0, 0, 0, 0, 1,\n",
    "    1, 0, 1, 0, 0, 0, 0, 0, 1, 1, 1, 1, 1, 1, 1, 1, 1, 1, 1, 1, 1, 0,\n",
    "    1, 1, 1, 1, 1, 0, 1, 0, 1, 1, 1, 1, 1, 1, 1, 1, 1, 1, 1, 1, 1, 1,\n",
    "    1, 1, 1, 1, 1, 1, 1, 0, 0, 1, 0, 1, 1, 1, 1, 1, 1, 0, 0, 1, 0, 1,\n",
    "    0, 0, 1, 0, 0, 0, 1, 0, 1, 0, 0, 1, 0, 1, 1, 0, 0, 1, 0, 1, 1, 1,\n",
    "    1, 0, 1, 0, 0, 0, 1, 0, 0, 1, 0, 0, 1, 1, 1, 1, 1, 1, 0, 0, 1, 0,\n",
    "    1, 0, 0, 1, 0, 1, 0, 0, 1, 0, 1, 0, 1, 1, 1, 1, 1, 0, 1, 0, 1, 0,\n",
    "    1, 0, 1, 0, 1, 1, 1, 1, 0, 0, 0, 0, 0, 1, 1, 0, 1, 1, 1, 1, 1, 1,\n",
    "    1, 1, 1, 1, 1, 1, 1, 0, 0, 0, 0, 0, 0, 1, 1, 1, 1, 1, 1, 1, 0, 1,\n",
    "    1, 0, 1, 1, 0, 0, 1, 0, 1, 0, 0, 1, 0, 1, 1, 1, 1, 1, 1, 1, 1, 1,\n",
    "    1, 1, 1, 1, 1, 1, 1, 1, 1, 1, 1, 1, 1, 1, 1, 1, 1, 1, 0, 0, 1, 0,\n",
    "    1, 1, 1, 1, 1, 1, 0, 0, 1, 0]\n",
    "\n",
    "\n",
    "# sampling\n",
    "with model_dirac:\n",
    "    # covariance matrix of proposal dist (MultivariateNormal)\n",
    "    S = np.zeros((num_vars,num_vars), np.int64)\n",
    "    np.fill_diagonal(S,100)\n",
    "\n",
    "    # config metropolis\n",
    "    step = pm.Metropolis(\n",
    "        S=S, # set new proposal dist\n",
    "        tune_interval=1000 # incrase steps between samples?\n",
    "    )\n",
    "\n",
    "    trace = pm.sample(\n",
    "        draws=10,\n",
    "        tune=1, # a lot of tunning steps\n",
    "        chains=4,\n",
    "        initvals={'x': init_state} # we must a satisfying initial state, otherwise it does not work...\n",
    "    ) "
   ]
  },
  {
   "cell_type": "code",
   "execution_count": null,
   "id": "0d97ef72",
   "metadata": {},
   "outputs": [],
   "source": [
    "az.plot_dist([ int(a,2) for a in trace.posterior['x'].values.reshape(40,1000)[:,:5]]);"
   ]
  },
  {
   "cell_type": "code",
   "execution_count": null,
   "id": "3a98dd8a",
   "metadata": {},
   "outputs": [],
   "source": [
    "## to be fixed\n",
    "\n",
    "plot_posterior_haplotype = lambda var_names, ax: az.plot_dist(np.array(list(map(lambda x: int(\"\".join(str(y) for y in x),2),trace.posterior['x'].values.reshape(5,-1).T))),ax=ax)\n",
    "\n",
    "num_vars = 200\n",
    "num_haplotype_vars = int(num_vars/5)\n",
    "num_rows = int(num_haplotype_vars/4)\n",
    "size_y   = 3*num_rows\n",
    "\n",
    "fig, axs_m = plt.subplots(nrows=num_rows, ncols=4, figsize=(23,size_y))\n",
    "axs = axs_m.ravel()\n",
    "for i in np.arange(0,num_vars,step=5):\n",
    "    var_names = [f'x{i+j}' for j in range(5)]\n",
    "    ax = axs[int(i/5)]\n",
    "    plot_posterior_haplotype(var_names, ax=ax)\n",
    "    ax.set_title(var_names)\n",
    "# plt.tight_layout();\n",
    "# plt.savefig('posterior_haplotypes.png',dpi=150);\n",
    "plt.show();"
   ]
  }
 ],
 "metadata": {
  "kernelspec": {
   "argv": [
    "/home/pardo/programs/miniconda3/envs/prpro-2024/bin/python",
    "-m",
    "ipykernel_launcher",
    "-f",
    "{connection_file}"
   ],
   "display_name": "prpro-2024",
   "env": null,
   "interrupt_mode": "signal",
   "language": "python",
   "name": "prpro-2024"
  },
  "language_info": {
   "codemirror_mode": {
    "name": "ipython",
    "version": 3
   },
   "file_extension": ".py",
   "mimetype": "text/x-python",
   "name": "python",
   "nbconvert_exporter": "python",
   "pygments_lexer": "ipython3",
   "version": "3.11.7"
  },
  "name": "db_cacm_PyMC.ipynb"
 },
 "nbformat": 4,
 "nbformat_minor": 5
}
