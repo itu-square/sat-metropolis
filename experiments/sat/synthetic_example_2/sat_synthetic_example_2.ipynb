{
 "cells": [
  {
   "cell_type": "code",
   "execution_count": 1,
   "id": "67f5121b-cfbe-4f93-9243-393f90cec3cc",
   "metadata": {
    "collapsed": false
   },
   "outputs": [],
   "source": [
    "from z3 import *\n",
    "import numpy as np\n",
    "import re\n",
    "import arviz as az\n",
    "\n",
    "import os, sys\n",
    "sys.path.append(os.path.join(\"../../../\"))\n",
    "\n",
    "from src.mcmc_sat import smt, mcmc, sat, utils"
   ]
  },
  {
   "cell_type": "markdown",
   "id": "fa8323c7-6f71-451d-9aa0-417dcdc90007",
   "metadata": {
    "collapsed": false
   },
   "source": [
    "# MCMC with SAT Sampler as Proposal Distribution\n",
    "\n",
    "In this notebook, we show how to use the SAT sampler `spur` to generate proposal samples for the Metropolis-Hastings algorithm."
   ]
  },
  {
   "cell_type": "markdown",
   "id": "2ffe97bc-f52d-49d7-88a2-81fd6ba5e0b6",
   "metadata": {
    "collapsed": false
   },
   "source": [
    "## Model definition (in Z3)\n",
    "\n",
    "We start by defining the model in Z3. It must be an SMT model using bit-vectors (BitVec). Instead of using a Z3 `Solver` object, we must use a `Goal` object. This is needed to later bit-blast automatically the SMT problem."
   ]
  },
  {
   "cell_type": "code",
   "execution_count": 2,
   "id": "b6a48636-ac11-497b-9787-0f790f63b007",
   "metadata": {
    "collapsed": false
   },
   "outputs": [],
   "source": [
    "# Assumption, all bit-vectors are of the same size\n",
    "## NOTE: It looks like we need to always have one extra bit? For the sign?\n",
    "num_bits = 4\n",
    "num_vars = 3\n",
    "var_list = [BitVec(f'x{i}',num_bits) for i in range(num_vars)]\n",
    "x = var_list\n",
    "g = Goal()\n",
    "sat.add_bool_vars_to_goal(g, var_list)\n",
    "g.add(sat.addition_does_not_overflow([x[0], x[1], x[2]])) # important\n",
    "g.add(ULE(0,x[0]))\n",
    "g.add(ULE(x[0],3))\n",
    "g.add(ULE(0,x[1]))\n",
    "g.add(ULE(x[1],3))\n",
    "g.add(ULE(0,x[2]))\n",
    "g.add(ULE(x[2],6))\n",
    "g.add(x[0] + x[1]  == x[2])"
   ]
  },
  {
   "cell_type": "markdown",
   "id": "a3e0b645-f374-4d81-973a-95bf449a623f",
   "metadata": {
    "collapsed": false
   },
   "source": [
    "As a sanity check, we verify that the SMTproblem has a solution"
   ]
  },
  {
   "cell_type": "code",
   "execution_count": null,
   "id": "33b2381b-703f-4b3d-af89-9f82c5d40907",
   "metadata": {
    "collapsed": false
   },
   "outputs": [],
   "source": [
    "# sanity check (optional)\n",
    "solve(g)"
   ]
  },
  {
   "cell_type": "markdown",
   "id": "c37f1032-d639-48e9-a2b6-795252b3781a",
   "metadata": {
    "collapsed": false
   },
   "source": [
    "## Bit-blasting\n",
    "\n",
    "The function below bit-blasts the problem and stores it in CNF form in the specified directory and file. The bit-blasted problem is stored in DIMACS format. This is one for the input formats that `spur` supports.\n",
    "\n",
    "The `save_dimacs` function returns a pair with two elements. \n",
    "\n",
    "The first one is that number of variables in the bit-blasted problem (`num_variables`)---do not confuse this variable with `num_vars`, which is the number of variables in the original SMT problem. The resulting bit-blasted problem is a SAT problem.\n",
    "\n",
    "The second element `variables_number` is a map `int -> Z3_VAR` that assigs a natural number to each bit-blasted variable. This map is necessary to reverse the bit-blasting process after obtaining the samples from `spur`."
   ]
  },
  {
   "cell_type": "code",
   "execution_count": 3,
   "id": "e060c3b6-5225-4763-92ba-35ac52cd471d",
   "metadata": {
    "collapsed": false
   },
   "outputs": [],
   "source": [
    "input_dir = 'spur_input'\n",
    "input_file = 'Database2.cnf'\n",
    "(num_variables, variables_number) = sat.save_dimacs(g, \n",
    "                                                    f'{input_dir}/{input_file}')"
   ]
  },
  {
   "cell_type": "markdown",
   "id": "068f36f9-c82f-4e03-9729-efe95ac6607e",
   "metadata": {
    "collapsed": false
   },
   "source": [
    "Here we call `spur` using the input file created in the previous step. We instruct it to generate 10000 samples. The output samples are stored in the same directory as the input file, and the output file is named `samples_<input_file>.txt`."
   ]
  },
  {
   "cell_type": "code",
   "execution_count": 4,
   "id": "77816111-7de7-4192-bcca-2ffd48d37e03",
   "metadata": {
    "collapsed": false
   },
   "outputs": [
    {
     "name": "stdout",
     "output_type": "stream",
     "text": [
      "\u001b[1;33mWARNING: No sample results file specified.\n",
      "Using default filename: \"spur_input/samples_Database2.txt\"\u001b[0m\n",
      "Performing Uniform Model Sampling...\n",
      "Input File:  spur_input/Database2.cnf\n",
      "Output File: spur_input/samples_Database2.txt\n",
      "\n",
      "Preprocessing ... DONE\n",
      "variables (all/used/free): \t47/47/0\n",
      "independent support size:  \t0\n",
      "clauses (all/long/binary/unit): 151/75/69/7\n",
      "Initialize cache\n",
      "Size of Cacheable Component:\t56\n",
      "Size of MPZ Class:\t16\n",
      "Maximum cache size:\t5129 MB\n",
      "\n",
      "STAGE #1: Build the initial partial assignments\n",
      "STAGE #1: COMPLETED building initial partial assignments\n",
      "STAGE #2 - Filling in partial assignments...\n",
      "Initialize cache\n",
      "Size of Cacheable Component:\t56\n",
      "Size of MPZ Class:\t16\n",
      "Maximum cache size:\t5129 MB\n",
      "\n",
      "Sample #1 of 4 is already a complete assignment.  Continuing...\n",
      "Completing sample #2 of 4 which has 4 variables unset and 1216 samples.\n",
      "Completing sample #3 of 4 which has 11 variables unset and 1866 samples.\n",
      "Completing sample #4 of 4 which has 8 variables unset and 1850 samples.\n",
      "STAGE #2 - COMPLETE\n",
      "\n",
      "\n",
      "variables (total / active / free)\t47/47/0\n",
      "clauses (removed) \t\t151 (0)\n",
      "decisions \t\t\t\t10\n",
      "conflicts \t\t\t\t0\n",
      "conflict clauses (all/bin/unit) \t1/0/7\n",
      "failed literals found by implicit BCP \t 1\n",
      "implicit BCP miss rate \t98.4848%\n",
      "bytes cache size     \t20235352\t\n",
      "bytes cache (overall) \t20235352\n",
      "bytes cache (infra / comps) 20234408/944\t\n",
      "bytes pure comp data (curr)    192\n",
      "bytes pure comp data (overall) 192\n",
      "bytes cache with sysoverh (curr)    1680\n",
      "bytes cache with sysoverh (overall) 1680\n",
      "cache (stores / hits) \t\t\t12/3\n",
      "cache miss rate \t\t76.9231%\n",
      "avg. variable count (stores / hits) \t21.5/7.66667\n",
      "\n",
      "\n",
      "# solutions \n",
      "16\n",
      "\n",
      "# END\n",
      "\n",
      "time: 0.010447s\n",
      "\n",
      "\n",
      "Total Sampler Execution Time: 0.010447s\n",
      "\n",
      "\u001b[1;33mWARNING: Only 16 models exist but 10000 samples were requested.\n",
      "\u001b[0m\n",
      "#START_HEADER\n",
      "start_time,Fri Nov 24 09:45:58 2023\n",
      "formula_file,spur_input/Database2.cnf\n",
      "num_vars,47\n",
      "independent_support_size,0\n",
      "num_clauses,151\n",
      "tot_num_models,16\n",
      "max_component_split_depth,0\n",
      "max_branch_var_depth,5\n",
      "num_samples,10000\n",
      "num_second_pass_groups,4\n",
      "num_second_pass_vars,0,4,11,8\n",
      "avg_second_pass_var,5.75\n",
      "execution_time,0.010447\n",
      "pass1_time,0.004903\n",
      "pass2_time,0.005544\n",
      "#END_HEADER\n"
     ]
    }
   ],
   "source": [
    "num_samples   = 10000\n",
    "sat.execute_spur(f'{input_dir}/{input_file}',num_samples=num_samples)"
   ]
  },
  {
   "cell_type": "markdown",
   "id": "e14f66d1-a005-49e7-82bf-c057968b6475",
   "metadata": {
    "collapsed": false
   },
   "source": [
    "The function below parses the samples generated by `spur`. It returns a matrix with coordinates (sample, bit-blasted_var) containing all generated samples. That is, each row correspond a sample, and each column contains the value of a bit-blasted variable.\n",
    "\n",
    "For now, the function takes as input the input directory and file for `spur`. That is, the same parameters as the previous function. The function below automatically infers the name of file containing the samples generated by `spur`."
   ]
  },
  {
   "cell_type": "code",
   "execution_count": 5,
   "id": "9a6c378b-6526-4906-b584-96a5c7de58f7",
   "metadata": {
    "collapsed": false
   },
   "outputs": [],
   "source": [
    "samples = sat.parse_spur_samples(input_dir, input_file, \n",
    "                                 num_samples, num_variables)"
   ]
  },
  {
   "cell_type": "markdown",
   "id": "1b3d7788-3605-4faf-876c-3af7e343589d",
   "metadata": {
    "collapsed": false
   },
   "source": [
    "The function below performs an intermediate step where we create a map from z3 bit-blasted variables to their sampled values, i.e., Z3_VAR -> list[bool]."
   ]
  },
  {
   "cell_type": "code",
   "execution_count": 6,
   "id": "31fe87ba-4d97-44ba-b733-ecf87462ab26",
   "metadata": {
    "collapsed": false
   },
   "outputs": [],
   "source": [
    "map_variable_values = sat.map_spur_samples_to_z3_vars(variables_number, \n",
    "                                                      num_variables,\n",
    "                                                      samples)"
   ]
  },
  {
   "cell_type": "markdown",
   "id": "249a12c7-a56d-451f-a1d4-5902a35bb6d0",
   "metadata": {
    "collapsed": false
   },
   "source": [
    "## Reverse bit-blasting\n",
    "\n",
    "Finally, we take the map above to reverse the bit-blasting process for each of the spur samples. The function below returns a list of dictionaries. Each dictionary contains a sample value for the SMT problem variables (i.e., reverse-bit-blasted variables). This output format is expected output for our `mcmc.sample_mh_trace` function.\n",
    "\n",
    "The function below takes as input the map from Z3 bit-blasted variables to values, the number of generated samples, the number of varibles (**in the SMT problem**), and the number of bits of the bit-vectors of the SMT problem. We emphasize again that the number of variables in this function refers to the number of bit-vectors in the SMT problem. Do not confuse with the number of variables in the bit-blasted SAT problem.\n",
    "\n",
    "Here we note an important requirement of this process. All bit-vectors must have the same number of bits."
   ]
  },
  {
   "cell_type": "code",
   "execution_count": 7,
   "id": "a07b274c-0305-4cd7-abe4-344d75d0da9f",
   "metadata": {
    "collapsed": false
   },
   "outputs": [],
   "source": [
    "solver_samples = sat.reverse_bit_blasting(map_variable_values, \n",
    "                                          num_samples,\n",
    "                                          num_vars,\n",
    "                                          num_bits)"
   ]
  },
  {
   "cell_type": "markdown",
   "id": "42a254d2-176f-41ad-839a-24ec52ce7af0",
   "metadata": {
    "collapsed": false
   },
   "source": [
    "As a sanity check, we have created a function that checks that all generated samples satisfy the SMT problem. \n",
    "\n",
    "This is an optional step. Be careful when executed for a large number of samples, as it is a computationally expensive process."
   ]
  },
  {
   "cell_type": "code",
   "execution_count": 8,
   "id": "1dfaeca8-0f72-4280-a97d-12e6c2f31383",
   "metadata": {
    "collapsed": false
   },
   "outputs": [
    {
     "data": {
      "text/plain": [
       "True"
      ]
     },
     "execution_count": 8,
     "metadata": {},
     "output_type": "execute_result"
    }
   ],
   "source": [
    "#  sanity check (optional, heavy computation)\n",
    "utils.sat_checking_samples(g, solver_samples[:10], var_list)"
   ]
  },
  {
   "cell_type": "markdown",
   "id": "b98b8b54-ca2b-4c04-9b88-c5adf333c79e",
   "metadata": {
    "collapsed": false
   },
   "source": [
    "At this point, we can use the `solver_samples` to execute our Metropolis-Hastings algorithm.\n",
    "\n",
    "We remark that the funciton call before is exactly the same as when we use Megasampler for generating samples."
   ]
  },
  {
   "cell_type": "code",
   "execution_count": 9,
   "id": "50573e97-b1fd-4e7b-a3c8-04b1dead0567",
   "metadata": {
    "collapsed": false
   },
   "outputs": [],
   "source": [
    "trace = mcmc.sample_mh_trace(num_samples, 4, solver_samples)"
   ]
  },
  {
   "cell_type": "code",
   "execution_count": 10,
   "id": "56a04ce4-8f55-49b7-a437-79562245d8f0",
   "metadata": {
    "collapsed": false
   },
   "outputs": [
    {
     "data": {
      "image/png": "[encoded data removed]",
      "text/plain": [
       "<Figure size 1200x600 with 6 Axes>"
      ]
     },
     "metadata": {},
     "output_type": "display_data"
    }
   ],
   "source": [
    "# Trace plot\n",
    "import matplotlib.pyplot as plt\n",
    "az.plot_trace(trace);\n",
    "plt.savefig('spur_trace_plot.png',dpi=150);"
   ]
  },
  {
   "cell_type": "code",
   "execution_count": 11,
   "id": "eab966e1-c4c8-4d2a-b8e2-69ce82e4d5a2",
   "metadata": {
    "collapsed": false
   },
   "outputs": [
    {
     "data": {
      "text/html": [
       "<div>\n",
       "<style scoped>\n",
       "    .dataframe tbody tr th:only-of-type {\n",
       "        vertical-align: middle;\n",
       "    }\n",
       "\n",
       "    .dataframe tbody tr th {\n",
       "        vertical-align: top;\n",
       "    }\n",
       "\n",
       "    .dataframe thead th {\n",
       "        text-align: right;\n",
       "    }\n",
       "</style>\n",
       "<table border=\"1\" class=\"dataframe\">\n",
       "  <thead>\n",
       "    <tr style=\"text-align: right;\">\n",
       "      <th></th>\n",
       "      <th>mean</th>\n",
       "      <th>sd</th>\n",
       "      <th>hdi_3%</th>\n",
       "      <th>hdi_97%</th>\n",
       "      <th>mcse_mean</th>\n",
       "      <th>mcse_sd</th>\n",
       "      <th>ess_bulk</th>\n",
       "      <th>ess_tail</th>\n",
       "      <th>r_hat</th>\n",
       "    </tr>\n",
       "  </thead>\n",
       "  <tbody>\n",
       "    <tr>\n",
       "      <th>x0</th>\n",
       "      <td>1.494</td>\n",
       "      <td>1.112</td>\n",
       "      <td>0.0</td>\n",
       "      <td>3.0</td>\n",
       "      <td>0.006</td>\n",
       "      <td>0.004</td>\n",
       "      <td>38756.0</td>\n",
       "      <td>38850.0</td>\n",
       "      <td>1.0</td>\n",
       "    </tr>\n",
       "    <tr>\n",
       "      <th>x1</th>\n",
       "      <td>1.491</td>\n",
       "      <td>1.122</td>\n",
       "      <td>0.0</td>\n",
       "      <td>3.0</td>\n",
       "      <td>0.006</td>\n",
       "      <td>0.004</td>\n",
       "      <td>39812.0</td>\n",
       "      <td>39280.0</td>\n",
       "      <td>1.0</td>\n",
       "    </tr>\n",
       "    <tr>\n",
       "      <th>x2</th>\n",
       "      <td>3.002</td>\n",
       "      <td>1.589</td>\n",
       "      <td>0.0</td>\n",
       "      <td>6.0</td>\n",
       "      <td>0.008</td>\n",
       "      <td>0.006</td>\n",
       "      <td>39355.0</td>\n",
       "      <td>40000.0</td>\n",
       "      <td>1.0</td>\n",
       "    </tr>\n",
       "  </tbody>\n",
       "</table>\n",
       "</div>"
      ],
      "text/plain": [
       "     mean     sd  hdi_3%  hdi_97%  mcse_mean  mcse_sd  ess_bulk  ess_tail  \\\n",
       "x0  1.494  1.112     0.0      3.0      0.006    0.004   38756.0   38850.0   \n",
       "x1  1.491  1.122     0.0      3.0      0.006    0.004   39812.0   39280.0   \n",
       "x2  3.002  1.589     0.0      6.0      0.008    0.006   39355.0   40000.0   \n",
       "\n",
       "    r_hat  \n",
       "x0    1.0  \n",
       "x1    1.0  \n",
       "x2    1.0  "
      ]
     },
     "execution_count": 11,
     "metadata": {},
     "output_type": "execute_result"
    }
   ],
   "source": [
    "# Diagnosis\n",
    "az.summary(trace)"
   ]
  },
  {
   "cell_type": "code",
   "execution_count": 12,
   "id": "5c87ea72-a3b5-4949-8f9d-e701a16e32de",
   "metadata": {
    "collapsed": false
   },
   "outputs": [
    {
     "name": "stdout",
     "output_type": "stream",
     "text": [
      "[(0, 0.2478), (1, 0.256025), (2, 0.250425), (3, 0.24575)]\n",
      "[(0, 0.0627), (1, 0.12665), (2, 0.188275), (3, 0.244675), (4, 0.18725), (5, 0.12685), (6, 0.0636)]\n"
     ]
    }
   ],
   "source": [
    "print([(i, (trace.posterior['x0'] == i).mean().values.tolist()) for i in range(0,4)])\n",
    "print([(i, (trace.posterior['x2'] == i).mean().values.tolist()) for i in range(0,7)])"
   ]
  }
 ],
 "metadata": {
  "kernelspec": {
   "argv": [
    "/home/pardo/programs/miniconda3/envs/mcmc+sat/bin/python",
    "-m",
    "ipykernel_launcher",
    "-f",
    "{connection_file}"
   ],
   "display_name": "Python [conda env:mcmc+sat] *",
   "env": null,
   "interrupt_mode": "signal",
   "language": "python",
   "metadata": {
    "conda_env_name": "mcmc+sat",
    "conda_env_path": "/home/pardo/programs/miniconda3/envs/mcmc+sat",
    "debugger": false
   },
   "name": "conda-env-mcmc_sat-py"
  },
  "language_info": {
   "codemirror_mode": {
    "name": "ipython",
    "version": 3
   },
   "file_extension": ".py",
   "mimetype": "text/x-python",
   "name": "python",
   "nbconvert_exporter": "python",
   "pygments_lexer": "ipython3",
   "version": "3.11.4"
  },
  "name": "sat_synthetic_example_2.ipynb"
 },
 "nbformat": 4,
 "nbformat_minor": 2
}
